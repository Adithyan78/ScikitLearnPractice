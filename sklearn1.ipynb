{
  "nbformat": 4,
  "nbformat_minor": 0,
  "metadata": {
    "colab": {
      "private_outputs": true,
      "provenance": [],
      "authorship_tag": "ABX9TyOy8L37lFJubJS2QBx1oNkG",
      "include_colab_link": true
    },
    "kernelspec": {
      "name": "python3",
      "display_name": "Python 3"
    },
    "language_info": {
      "name": "python"
    }
  },
  "cells": [
    {
      "cell_type": "markdown",
      "metadata": {
        "id": "view-in-github",
        "colab_type": "text"
      },
      "source": [
        "<a href=\"https://colab.research.google.com/github/Adithyan78/ScikitLearnPractice/blob/main/sklearn1.ipynb\" target=\"_parent\"><img src=\"https://colab.research.google.com/assets/colab-badge.svg\" alt=\"Open In Colab\"/></a>"
      ]
    },
    {
      "cell_type": "code",
      "execution_count": null,
      "metadata": {
        "id": "eSiC1IatJ_Px"
      },
      "outputs": [],
      "source": [
        "print(\"hello\")"
      ]
    },
    {
      "cell_type": "code",
      "source": [
        "from sklearn import datasets\n",
        "import numpy as np\n",
        "import matplotlib.pyplot as plt\n",
        "from sklearn.model_selection import train_test_split\n",
        "from sklearn import neighbors,metrics\n",
        "import pandas as pd\n",
        "from sklearn.preprocessing import LabelEncoder\n"
      ],
      "metadata": {
        "id": "sf7-0s8pKG0i"
      },
      "execution_count": null,
      "outputs": []
    },
    {
      "cell_type": "code",
      "source": [
        "iris=datasets.load_iris()\n",
        "X=iris.data\n",
        "y=iris.target\n",
        "print(X,y)"
      ],
      "metadata": {
        "id": "5u-KSA9cKVJZ"
      },
      "execution_count": null,
      "outputs": []
    },
    {
      "cell_type": "code",
      "source": [
        "#train/test spilt\n",
        "X_train,X_test,y_train,y_test=train_test_split(X,y,test_size=0.2)\n",
        "print(X_train.shape)\n",
        "print(y_train.shape)\n",
        "print(X_test.shape)\n",
        "print(y_test.shape)\n",
        "\n",
        "\n",
        "\n",
        "\n"
      ],
      "metadata": {
        "id": "ShUyyR7eLdzp"
      },
      "execution_count": null,
      "outputs": []
    },
    {
      "cell_type": "code",
      "source": [
        "#uci car evaluvation data set\n",
        "import numpy as np\n",
        "import matplotlib.pyplot as plt\n",
        "from sklearn.model_selection import train_test_split\n",
        "from sklearn import neighbors,metrics\n",
        "import pandas as pd\n",
        "from sklearn.preprocessing import LabelEncoder"
      ],
      "metadata": {
        "id": "ZfV3a8uhQWCm"
      },
      "execution_count": null,
      "outputs": []
    },
    {
      "cell_type": "code",
      "source": [
        "data=pd.read_csv('car.data')\n",
        "print(data.head())"
      ],
      "metadata": {
        "collapsed": true,
        "id": "cVo5Z3izQrF_"
      },
      "execution_count": null,
      "outputs": []
    },
    {
      "cell_type": "code",
      "source": [
        "X=data[['buying',' maint',' safety']].values\n",
        "y=data[['class']]\n",
        "print(X,y)"
      ],
      "metadata": {
        "id": "CiGGM5xaRCye"
      },
      "execution_count": null,
      "outputs": []
    },
    {
      "cell_type": "code",
      "source": [
        "#converting data\n",
        "\n",
        "le=LabelEncoder()\n",
        "for i in range(len(X[0])):\n",
        "    X[:, i]=le.fit_transform((X[:, i]))\n",
        "print(X)"
      ],
      "metadata": {
        "id": "JcLs1SXmSk82"
      },
      "execution_count": null,
      "outputs": []
    },
    {
      "cell_type": "code",
      "source": [
        "#convert y by label mapping\n",
        "label_mapping={\n",
        "    'unacc':0,\n",
        "    'acc':1,\n",
        "    'good':2,\n",
        "    'vgood':3\n",
        "}\n",
        "y['class']=y['class'].map(label_mapping)\n",
        "y=np.array(y)\n",
        "print(y)"
      ],
      "metadata": {
        "id": "7xIyYIksThb-"
      },
      "execution_count": null,
      "outputs": []
    },
    {
      "cell_type": "code",
      "source": [
        "#create our model knn\n",
        "\n",
        "knn=neighbors.KNeighborsClassifier(n_neighbors=25,weights='uniform')\n",
        "\n",
        "X_train,X_test,y_train,y_test=train_test_split(X,y,test_size=0.2)\n",
        "\n",
        "knn.fit(X_train,y_train)\n",
        "prediction=knn.predict(X_test)\n",
        "accuracy=metrics.accuracy_score(y_test,prediction)\n",
        "print(\"prediction:\",prediction)\n",
        "print(\"accuracy:\",accuracy)\n",
        "\n",
        "\n",
        "a=1200\n",
        "print(\"actual value:\",y[a])\n",
        "print(\"predicted value:\",knn.predict(X)[a])"
      ],
      "metadata": {
        "id": "mHGn4aJiUWNv"
      },
      "execution_count": null,
      "outputs": []
    },
    {
      "cell_type": "code",
      "source": [
        "#svm tutorial"
      ],
      "metadata": {
        "id": "MIGl-u7YALae"
      },
      "execution_count": null,
      "outputs": []
    },
    {
      "cell_type": "code",
      "source": [
        "from sklearn import datasets\n",
        "from sklearn.model_selection import train_test_split\n",
        "from sklearn import svm\n",
        "from sklearn import metrics\n",
        "\n",
        "iris=datasets.load_iris()\n",
        "X=iris.data\n",
        "y=iris.target\n",
        "# print(X,y)\n",
        "\n",
        "classes=['Iris Setosa','Iris Versicolour','Iris Virginica']\n",
        "\n",
        "X_train,X_test,y_train,y_test=train_test_split(X,y,test_size=0.2)"
      ],
      "metadata": {
        "id": "aA0fyYQfC_eg"
      },
      "execution_count": null,
      "outputs": []
    },
    {
      "cell_type": "code",
      "source": [
        "model=svm.SVC()\n",
        "model.fit(X_train,y_train)\n",
        "print(model)\n",
        "\n",
        "prediction=model.predict(X_test)\n",
        "print(\"prediction:\",prediction)\n",
        "\n",
        "acc=metrics.accuracy_score(y_test,prediction)\n",
        "print(\"actual     \",y_test)\n",
        "print(\"accuracy:\",acc)\n"
      ],
      "metadata": {
        "id": "x_IbGqMmDnht"
      },
      "execution_count": null,
      "outputs": []
    }
  ]
}